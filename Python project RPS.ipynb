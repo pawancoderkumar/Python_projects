{
 "cells": [
  {
   "cell_type": "code",
   "execution_count": 1,
   "id": "2d65d93d",
   "metadata": {},
   "outputs": [],
   "source": [
    "import random"
   ]
  },
  {
   "cell_type": "code",
   "execution_count": 10,
   "id": "197c24dc",
   "metadata": {},
   "outputs": [
    {
     "name": "stdout",
     "output_type": "stream",
     "text": [
      "comp turn: Rock(r), Paper(p) or Scissor(s)?\n",
      "your turn: Rock(r), Paper(p) or Scissor(s)? :b\n",
      "You choose b\n",
      "Computer choose p\n",
      "It is a tie.\n"
     ]
    }
   ],
   "source": [
    "def Rock_Paper_Scissor_GameWin(comp,you):\n",
    "    if comp == you :\n",
    "        return None    \n",
    "    elif comp == 'r':\n",
    "        if you == 'p':\n",
    "            return True\n",
    "        elif you == 's':\n",
    "            return False\n",
    "    elif comp == 'p':\n",
    "        if you == 's':\n",
    "            return True\n",
    "        elif you == 'r':\n",
    "            return False\n",
    "    elif comp == 's':\n",
    "        if you == 'r':\n",
    "            return True\n",
    "        elif you == 'p':\n",
    "            return False\n",
    "        \n",
    "print('comp turn: Rock(r), Paper(p) or Scissor(s)?')\n",
    "random_values= random.randint(1,3)\n",
    "if random_values == 1:\n",
    "    comp = 'r'\n",
    "elif random_values == 2:\n",
    "    comp = 'p'\n",
    "elif random_values == 3:\n",
    "    comp = 's'\n",
    "\n",
    "you= input('your turn: Rock(r), Paper(p) or Scissor(s)? :')\n",
    "a= Rock_Paper_Scissor_GameWin(comp,you)\n",
    "\n",
    "print(f'You choose {you}')\n",
    "print(f'Computer choose {comp}')\n",
    "\n",
    "if a == None:\n",
    "    print(\"It is a tie.\")\n",
    "elif a == True:\n",
    "    print('You Win')\n",
    "elif a == False:\n",
    "    print('You Lose')"
   ]
  },
  {
   "cell_type": "code",
   "execution_count": null,
   "id": "e7f7788c",
   "metadata": {},
   "outputs": [],
   "source": []
  },
  {
   "cell_type": "code",
   "execution_count": null,
   "id": "e2fe0c65",
   "metadata": {},
   "outputs": [],
   "source": []
  }
 ],
 "metadata": {
  "kernelspec": {
   "display_name": "Python 3 (ipykernel)",
   "language": "python",
   "name": "python3"
  },
  "language_info": {
   "codemirror_mode": {
    "name": "ipython",
    "version": 3
   },
   "file_extension": ".py",
   "mimetype": "text/x-python",
   "name": "python",
   "nbconvert_exporter": "python",
   "pygments_lexer": "ipython3",
   "version": "3.9.7"
  }
 },
 "nbformat": 4,
 "nbformat_minor": 5
}
