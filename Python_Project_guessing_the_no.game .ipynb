{
 "cells": [
  {
   "cell_type": "code",
   "execution_count": 1,
   "id": "2cdd279e",
   "metadata": {},
   "outputs": [],
   "source": [
    "import random\n",
    "import math"
   ]
  },
  {
   "cell_type": "code",
   "execution_count": 2,
   "id": "4fa41318",
   "metadata": {},
   "outputs": [
    {
     "name": "stdout",
     "output_type": "stream",
     "text": [
      "Enter Lower bound: 10\n",
      "Enter Upper bound: 20\n",
      "You have only 3 chances to guess the integer!\n",
      "\n",
      "Guess a number: 14\n",
      "You guessed too small!\n",
      "Guess a number: 1000\n",
      "You guessed too high!\n",
      "Guess a number: 120\n",
      "You guessed too high!\n",
      "Guess a number: 15\n",
      "Congratualtions you did it in 4 try\n",
      "The number is 15\n",
      "Better Luck Next Time!\n"
     ]
    }
   ],
   "source": [
    "lower= int(input('Enter Lower bound: '))\n",
    "upper=int(input('Enter Upper bound: '))\n",
    "\n",
    "x=random.randint(lower,upper)\n",
    "\n",
    "a= round(math.log(upper-lower+1,2)) \n",
    "print(f'You have only {a} chances to guess the integer!\\n')\n",
    "\n",
    "count=0\n",
    "while count<math.log(upper-lower+1,2):\n",
    "    count += 1\n",
    "    guess=int(input('Guess a number: '))\n",
    "    if x == guess:\n",
    "        print(f'Congratualtions you did it in {count} try')\n",
    "        break\n",
    "    elif x > guess:\n",
    "        print('You guessed too small!')\n",
    "    elif x < guess:\n",
    "        print('You guessed too high!')\n",
    "        \n",
    "if count >= math.log(upper-lower+1,2):\n",
    "    print(f'The number is {x}')\n",
    "    print('Better Luck Next Time!')\n",
    "       \n",
    "      "
   ]
  },
  {
   "cell_type": "code",
   "execution_count": 3,
   "id": "813dc4c5",
   "metadata": {},
   "outputs": [
    {
     "name": "stdout",
     "output_type": "stream",
     "text": [
      "Enter your unit: 490\n",
      "Bill Per Unit: 3792.8\n",
      "Bill after adding Line rent: 4503.3\n",
      "Bill after adding Meter rent: 4603.3\n",
      "Total Bill after adding tax: 5339.828\n"
     ]
    }
   ],
   "source": [
    "unit = int(input(\"Enter your unit: \"))\n",
    "if unit <= 100:\n",
    "    bill = unit * 3.46\n",
    "elif unit >= 101 and unit <= 300:\n",
    "    bill = 346 + ((unit - 100) * 7.43)\n",
    "elif unit >= 301 and unit <= 500:\n",
    "    bill = 346 + 1486 + ((unit - 300) * 10.32)\n",
    "else:\n",
    "    bill = 346 + 1486 + 2064 + ((unit - 500) * 11.71)\n",
    "print(\"Bill Per Unit:\",bill)\n",
    "bill = bill + (unit*1.45)\n",
    "print(\"Bill after adding Line rent:\",bill)\n",
    "bill = bill + 100\n",
    "print(\"Bill after adding Meter rent:\",bill)\n",
    "bill = bill + (bill*0.16)\n",
    "print(\"Total Bill after adding tax:\",bill)"
   ]
  },
  {
   "cell_type": "code",
   "execution_count": null,
   "id": "22e03cdb",
   "metadata": {},
   "outputs": [],
   "source": []
  }
 ],
 "metadata": {
  "kernelspec": {
   "display_name": "Python 3 (ipykernel)",
   "language": "python",
   "name": "python3"
  },
  "language_info": {
   "codemirror_mode": {
    "name": "ipython",
    "version": 3
   },
   "file_extension": ".py",
   "mimetype": "text/x-python",
   "name": "python",
   "nbconvert_exporter": "python",
   "pygments_lexer": "ipython3",
   "version": "3.9.7"
  }
 },
 "nbformat": 4,
 "nbformat_minor": 5
}
