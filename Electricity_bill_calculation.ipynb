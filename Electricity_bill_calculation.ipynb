{
 "cells": [
  {
   "cell_type": "markdown",
   "id": "91abf1bb",
   "metadata": {},
   "source": [
    "### Calculating electricity bill by units\n",
    "\n"
   ]
  },
  {
   "cell_type": "code",
   "execution_count": 2,
   "id": "58c375b7",
   "metadata": {},
   "outputs": [],
   "source": [
    "# For 1 to 100 units charge is 3.46\n",
    "# For 101 to 300 units charge is 7.43\n",
    "# For 300 to 500 units charge is 10.31\n",
    "# For more than 500 units charge is 11.71\n",
    "# Total bill is bill after adding line rent,meter rent and taxes."
   ]
  },
  {
   "cell_type": "code",
   "execution_count": 3,
   "id": "40aae41f",
   "metadata": {},
   "outputs": [
    {
     "name": "stdout",
     "output_type": "stream",
     "text": [
      "Enter your unit: 821\n",
      "Bill Per Unit: 7654.91\n",
      "Bill after adding Line rent: 8845.36\n",
      "Bill after adding Meter rent: 8945.36\n",
      "Total Bill after adding tax: 10376.617600000001\n"
     ]
    }
   ],
   "source": [
    "unit = int(input(\"Enter your unit: \"))\n",
    "if unit <= 100:\n",
    "    bill = unit * 3.46\n",
    "elif unit >= 101 and unit <= 300:\n",
    "    bill = 346 + ((unit - 100) * 7.43)\n",
    "elif unit >= 301 and unit <= 500:\n",
    "    bill = 346 + 1486 + ((unit - 300) * 10.32)\n",
    "else:\n",
    "    bill = 346 + 1486 + 2064 + ((unit - 500) * 11.71)\n",
    "print(\"Bill Per Unit:\",bill)\n",
    "bill = bill + (unit*1.45)\n",
    "print(\"Bill after adding Line rent:\",bill)\n",
    "bill = bill + 100\n",
    "print(\"Bill after adding Meter rent:\",bill)\n",
    "bill = bill + (bill*0.16)\n",
    "print(\"Total Bill after adding tax:\",bill)"
   ]
  },
  {
   "cell_type": "code",
   "execution_count": null,
   "id": "88f48888",
   "metadata": {},
   "outputs": [],
   "source": []
  }
 ],
 "metadata": {
  "kernelspec": {
   "display_name": "Python 3 (ipykernel)",
   "language": "python",
   "name": "python3"
  },
  "language_info": {
   "codemirror_mode": {
    "name": "ipython",
    "version": 3
   },
   "file_extension": ".py",
   "mimetype": "text/x-python",
   "name": "python",
   "nbconvert_exporter": "python",
   "pygments_lexer": "ipython3",
   "version": "3.9.7"
  }
 },
 "nbformat": 4,
 "nbformat_minor": 5
}
